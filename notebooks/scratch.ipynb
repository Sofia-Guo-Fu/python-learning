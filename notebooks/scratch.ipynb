{
 "cells": [
  {
   "cell_type": "code",
   "execution_count": 5,
   "metadata": {},
   "outputs": [
    {
     "name": "stdout",
     "output_type": "stream",
     "text": [
      "Data inserted successfully.\n",
      "Inserted data:\n",
      "No results found.\n"
     ]
    }
   ],
   "source": [
    "from sqlalchemy import create_engine, MetaData, Table, Column, Integer, String, Float, text\n",
    "\n",
    "# Create an SQLite engine (in-memory database)\n",
    "engine = create_engine('sqlite:///:memory:', echo=False)\n",
    "metadata = MetaData()\n",
    "\n",
    "# Define the sales table\n",
    "sales = Table('sales', metadata,\n",
    "              Column('Salesperson', String, nullable=False),\n",
    "              Column('Year', Integer, nullable=False),\n",
    "              Column('Revenue', Float, nullable=False))\n",
    "\n",
    "# Create the table in the database\n",
    "metadata.create_all(engine)\n",
    "\n",
    "# Insert data\n",
    "with engine.connect() as conn:\n",
    "    conn.execute(sales.insert(), [\n",
    "        {'Salesperson': 'John', 'Year': 2020, 'Revenue': 5000},\n",
    "        {'Salesperson': 'John', 'Year': 2021, 'Revenue': 6000},\n",
    "        {'Salesperson': 'Alice', 'Year': 2020, 'Revenue': 7000},\n",
    "        {'Salesperson': 'Alice', 'Year': 2021, 'Revenue': 8000}\n",
    "    ])\n",
    "    print(\"Data inserted successfully.\")\n",
    "\n",
    "# Verify the inserted data\n",
    "with engine.connect() as conn:\n",
    "    result = conn.execute(text('SELECT * FROM sales'))\n",
    "    rows = result.fetchall()\n",
    "    \n",
    "    print(\"Inserted data:\")\n",
    "    for row in rows:\n",
    "        print(row)\n",
    "\n",
    "\n",
    "# Querying and pivoting (manual pivot with case statements)\n",
    "with engine.connect() as conn:\n",
    "    result = conn.execute(text('''\n",
    "        SELECT Salesperson,\n",
    "               SUM(CASE WHEN Year = 2020 THEN Revenue ELSE 0 END) AS \"2020\",\n",
    "               SUM(CASE WHEN Year = 2021 THEN Revenue ELSE 0 END) AS \"2021\"\n",
    "        FROM sales\n",
    "        GROUP BY Salesperson\n",
    "    '''))\n",
    "    \n",
    "    # Fetch and print results\n",
    "    rows = result.fetchall()\n",
    "    if rows:\n",
    "        for row in rows:\n",
    "            print(row)\n",
    "    else:\n",
    "        print(\"No results found.\")\n"
   ]
  },
  {
   "cell_type": "code",
   "execution_count": 9,
   "metadata": {},
   "outputs": [],
   "source": [
    "import pandas as pd\n",
    "\n",
    "def find_correlated_products(corr_table, product, correlated=None):\n",
    "    if correlated is None:\n",
    "        correlated = set()\n",
    "    \n",
    "    # Add the product itself to the correlated set\n",
    "    correlated.add(product)\n",
    "    \n",
    "    # Find correlated products in the row (index)\n",
    "    if product in corr_table.index:\n",
    "        for col in corr_table.columns:\n",
    "            if corr_table.at[product, col] != 0 and col not in correlated:\n",
    "                find_correlated_products(corr_table, col, correlated)\n",
    "\n",
    "    # Find correlated products in the column\n",
    "    if product in corr_table.columns:\n",
    "        for idx in corr_table.index:\n",
    "            if corr_table.at[idx, product] != 0 and idx not in correlated:\n",
    "                find_correlated_products(corr_table, idx, correlated)\n",
    "    \n",
    "    return list(correlated)\n"
   ]
  },
  {
   "cell_type": "code",
   "execution_count": 10,
   "metadata": {},
   "outputs": [
    {
     "name": "stdout",
     "output_type": "stream",
     "text": [
      "['E', 'B', 'A', 'D']\n"
     ]
    }
   ],
   "source": [
    "# Example correlation table (non-symmetrical)\n",
    "data = {\n",
    "    'A': [0, 1, 0, 0],\n",
    "    'B': [1, 0, 0, 1],\n",
    "    'C': [0, 0, 0, 0],\n",
    "    'D': [0, 1, 0, 0]\n",
    "}\n",
    "\n",
    "# Non-symmetric table\n",
    "corr_table = pd.DataFrame(data, index=['A', 'B', 'D', 'E'])\n",
    "\n",
    "# Example usage\n",
    "result = find_correlated_products(corr_table, 'A')\n",
    "print(result)"
   ]
  },
  {
   "cell_type": "code",
   "execution_count": null,
   "metadata": {},
   "outputs": [],
   "source": []
  }
 ],
 "metadata": {
  "kernelspec": {
   "display_name": "python-learning-f9tBaeDV-py3.10",
   "language": "python",
   "name": "python3"
  },
  "language_info": {
   "codemirror_mode": {
    "name": "ipython",
    "version": 3
   },
   "file_extension": ".py",
   "mimetype": "text/x-python",
   "name": "python",
   "nbconvert_exporter": "python",
   "pygments_lexer": "ipython3",
   "version": "3.10.14"
  }
 },
 "nbformat": 4,
 "nbformat_minor": 2
}
