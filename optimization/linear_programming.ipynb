{
 "cells": [
  {
   "cell_type": "markdown",
   "metadata": {},
   "source": [
    "# Description\n",
    "\n",
    "solvers vs. framework \n",
    "\n",
    "problem understanding -> problem modelling -> framework (programming language) -> solver (problem solve) -> results"
   ]
  },
  {
   "cell_type": "markdown",
   "metadata": {},
   "source": [
    "## Or-Tools\n",
    "\n",
    "* Google optimization tools\n",
    "* supported solvers: Gurobi, Cplex, CP, GLP\n",
    "* Mainly works with linear programming "
   ]
  },
  {
   "cell_type": "code",
   "execution_count": 1,
   "metadata": {},
   "outputs": [],
   "source": [
    "from ortools.linear_solver import pywraplp"
   ]
  },
  {
   "cell_type": "code",
   "execution_count": 2,
   "metadata": {},
   "outputs": [
    {
     "name": "stdout",
     "output_type": "stream",
     "text": [
      "Optimal solution found\n",
      "x: 4.0\n",
      "y: 6.0\n"
     ]
    }
   ],
   "source": [
    "solver = pywraplp.Solver.CreateSolver('GLOP') # 'GUROBI' \n",
    "# bounds \n",
    "x = solver.NumVar(0, 10, 'x')\n",
    "y = solver.NumVar(0, 10, 'y')\n",
    "\n",
    "# constriants \n",
    "solver.Add(-x + 2*y <= 8)\n",
    "solver.Add(2*x + y <= 14)\n",
    "solver.Add(2*x - y <= 10)\n",
    "# objective function\n",
    "solver.Maximize(x+y)\n",
    "\n",
    "# solve it \n",
    "results = solver.Solve()\n",
    "\n",
    "if results == pywraplp.Solver.OPTIMAL:\n",
    "    print('Optimal solution found')\n",
    "\n",
    "print(f'x: {x.solution_value()}')\n",
    "print(f'y: {y.solution_value()}')"
   ]
  },
  {
   "cell_type": "markdown",
   "metadata": {},
   "source": [
    "## Scip\n",
    "\n",
    "* Upside: can solve many types of problems, .. linear, nonlinear, with integers etc.\n",
    "* Downside: cannot choose the solver\n",
    "\n",
    "I didn't download the 'SCIP suite' on this website though:https://scipopt.org/index.php#download\n",
    "nor did i set up the environmental variables"
   ]
  },
  {
   "cell_type": "code",
   "execution_count": 3,
   "metadata": {},
   "outputs": [],
   "source": [
    "from pyscipopt import Model "
   ]
  },
  {
   "cell_type": "code",
   "execution_count": 4,
   "metadata": {},
   "outputs": [
    {
     "name": "stdout",
     "output_type": "stream",
     "text": [
      "x = 4.0\n",
      "y = 6.0\n",
      "feasible solution found by trivial heuristic after 0.0 seconds, objective value 0.000000e+00\n",
      "presolving:\n",
      "(round 1, fast)       0 del vars, 0 del conss, 0 add conss, 2 chg bounds, 0 chg sides, 0 chg coeffs, 0 upgd conss, 0 impls, 0 clqs\n",
      "(round 2, fast)       0 del vars, 0 del conss, 0 add conss, 3 chg bounds, 0 chg sides, 0 chg coeffs, 0 upgd conss, 0 impls, 0 clqs\n",
      "(round 3, fast)       0 del vars, 0 del conss, 0 add conss, 4 chg bounds, 0 chg sides, 0 chg coeffs, 0 upgd conss, 0 impls, 0 clqs\n",
      "   (0.0s) symmetry computation started: requiring (bin +, int +, cont +), (fixed: bin -, int -, cont -)\n",
      "   (0.0s) no symmetry present (symcode time: 0.00)\n",
      "presolving (4 rounds: 4 fast, 1 medium, 1 exhaustive):\n",
      " 0 deleted vars, 0 deleted constraints, 0 added constraints, 4 tightened bounds, 0 added holes, 0 changed sides, 0 changed coefficients\n",
      " 0 implications, 0 cliques\n",
      "presolved problem has 2 variables (0 bin, 0 int, 0 impl, 2 cont) and 3 constraints\n",
      "      3 constraints of type <linear>\n",
      "Presolving Time: 0.00\n",
      "\n",
      " time | node  | left  |LP iter|LP it/n|mem/heur|mdpt |vars |cons |rows |cuts |sepa|confs|strbr|  dualbound   | primalbound  |  gap   | compl. \n",
      "t 0.0s|     1 |     0 |     0 |     - | trivial|   0 |   2 |   3 |   0 |   0 |  0 |   0 |   0 | 1.450000e+01 | 3.250000e+00 | 346.15%| unknown\n",
      "* 0.0s|     1 |     0 |     2 |     - |    LP  |   0 |   2 |   3 |   3 |   0 |  0 |   0 |   0 | 1.000000e+01 | 1.000000e+01 |   0.00%| unknown\n",
      "  0.0s|     1 |     0 |     2 |     - |   596k |   0 |   2 |   3 |   3 |   0 |  0 |   0 |   0 | 1.000000e+01 | 1.000000e+01 |   0.00%| unknown\n",
      "\n",
      "SCIP Status        : problem is solved [optimal solution found]\n",
      "Solving Time (sec) : 0.00\n",
      "Solving Nodes      : 1\n",
      "Primal Bound       : +1.00000000000000e+01 (3 solutions)\n",
      "Dual Bound         : +1.00000000000000e+01\n",
      "Gap                : 0.00 %\n"
     ]
    }
   ],
   "source": [
    "model = Model('example')\n",
    "\n",
    "x = model.addVar('x')\n",
    "y = model.addVar('y')\n",
    "\n",
    "model.setObjective(x+y, sense='maximize')\n",
    "\n",
    "model.addCons(-x + 2*y <= 8)\n",
    "model.addCons(2*x + y <= 14)\n",
    "model.addCons(2*x - y <= 10)\n",
    "\n",
    "model.optimize()\n",
    "\n",
    "sol = model.getBestSol()\n",
    "\n",
    "print(f'x = {sol[x]}')\n",
    "print(f'y = {sol[y]}')"
   ]
  },
  {
   "cell_type": "code",
   "execution_count": 5,
   "metadata": {},
   "outputs": [
    {
     "name": "stdout",
     "output_type": "stream",
     "text": [
      "x = 0.0feasible solution found by trivial heuristic after 0.0 seconds, objective value 0.000000e+00\n",
      "presolving:\n",
      "\n",
      "y = 14.0\n",
      "(round 1, fast)       0 del vars, 0 del conss, 0 add conss, 2 chg bounds, 0 chg sides, 0 chg coeffs, 0 upgd conss, 0 impls, 0 clqs\n",
      "   (0.0s) symmetry computation started: requiring (bin +, int +, cont +), (fixed: bin -, int -, cont -)\n",
      "   (0.0s) no symmetry present (symcode time: 0.00)\n",
      "presolving (2 rounds: 2 fast, 1 medium, 1 exhaustive):\n",
      " 0 deleted vars, 0 deleted constraints, 0 added constraints, 2 tightened bounds, 0 added holes, 0 changed sides, 0 changed coefficients\n",
      " 0 implications, 0 cliques\n",
      "presolved problem has 2 variables (0 bin, 0 int, 0 impl, 2 cont) and 3 constraints\n",
      "      2 constraints of type <linear>\n",
      "      1 constraints of type <nonlinear>\n",
      "Presolving Time: 0.00\n",
      "transformed 1/1 original solutions to the transformed problem space\n",
      "\n",
      " time | node  | left  |LP iter|LP it/n|mem/heur|mdpt |vars |cons |rows |cuts |sepa|confs|strbr|  dualbound   | primalbound  |  gap   | compl. \n",
      "* 0.0s|     1 |     0 |     2 |     - |    LP  |   0 |   4 |   3 |   3 |   0 |  0 |   0 |   0 | 1.400000e+01 | 1.400000e+01 |   0.00%| unknown\n",
      "  0.0s|     1 |     0 |     2 |     - |   620k |   0 |   4 |   3 |   3 |   0 |  0 |   0 |   0 | 1.400000e+01 | 1.400000e+01 |   0.00%| unknown\n",
      "\n",
      "SCIP Status        : problem is solved [optimal solution found]\n",
      "Solving Time (sec) : 0.00\n",
      "Solving Nodes      : 1\n",
      "Primal Bound       : +1.40000000000000e+01 (2 solutions)\n",
      "Dual Bound         : +1.40000000000000e+01\n",
      "Gap                : 0.00 %\n"
     ]
    }
   ],
   "source": [
    "model = Model('example')\n",
    "\n",
    "x = model.addVar('x')\n",
    "y = model.addVar('y')\n",
    "\n",
    "model.setObjective(x+y, sense='maximize')\n",
    "\n",
    "model.addCons(-x + 2* x * y <= 8) # can also solve for non-linear problems \n",
    "model.addCons(2*x + y <= 14)\n",
    "model.addCons(2*x - y <= 10)\n",
    "\n",
    "model.optimize()\n",
    "\n",
    "sol = model.getBestSol()\n",
    "\n",
    "print(f'x = {sol[x]}')\n",
    "print(f'y = {sol[y]}')"
   ]
  },
  {
   "cell_type": "markdown",
   "metadata": {},
   "source": [
    "## Gurobi & CPLEX & GLPK\n",
    "\n",
    "* Gurobi and Cplex are the most famous linear commercial solvers, and they also have academic licenses"
   ]
  },
  {
   "cell_type": "code",
   "execution_count": null,
   "metadata": {},
   "outputs": [],
   "source": []
  }
 ],
 "metadata": {
  "kernelspec": {
   "display_name": "python-learning-f9tBaeDV-py3.10",
   "language": "python",
   "name": "python3"
  },
  "language_info": {
   "codemirror_mode": {
    "name": "ipython",
    "version": 3
   },
   "file_extension": ".py",
   "mimetype": "text/x-python",
   "name": "python",
   "nbconvert_exporter": "python",
   "pygments_lexer": "ipython3",
   "version": "3.10.14"
  }
 },
 "nbformat": 4,
 "nbformat_minor": 2
}
