{
 "cells": [
  {
   "cell_type": "markdown",
   "metadata": {},
   "source": [
    "# SOLID design principles\n",
    "\n",
    "2. Open-closed principle (OCP)\n",
    "* \"software entities should be open for extension, but closed for modification\"\n",
    "* Extensibility: new features can be added without modifying existing code \n",
    "* Stability: reduces the risk of introducing bugs when making changes \n",
    "* Flexibility: adapts to changing requirements more easily\n",
    "\n",
    "I also learned from this example:\n",
    "* enum.Enum class in python\n",
    "* operator overloading in python (bitwise `and` operator &)\n",
    "* `map()` function in python"
   ]
  },
  {
   "cell_type": "code",
   "execution_count": 1,
   "metadata": {},
   "outputs": [],
   "source": [
    "from enum import Enum\n",
    "\n",
    "class Color(Enum):\n",
    "    RED = 1\n",
    "    GREEN = 2\n",
    "    BLUE = 3\n",
    "\n",
    "class Size(Enum):\n",
    "    SMALL = 1\n",
    "    MEDIUM = 2\n",
    "    LARGE = 3\n",
    "\n",
    "class Product:\n",
    "    def __init__(self, name, color, size):\n",
    "        self.name = name \n",
    "        self.color = color \n",
    "        self.size = size "
   ]
  },
  {
   "cell_type": "code",
   "execution_count": 2,
   "metadata": {},
   "outputs": [],
   "source": [
    "# old implememntation: state space explosion \n",
    "# 3 criteria\n",
    "# 7 methods: c s w cs sw cw csw\n",
    "class ProductFilter:\n",
    "    def filter_by_color(self, products, color):\n",
    "        for p in products:\n",
    "            if p.color == color: yield p \n",
    "\n",
    "    def filter_by_size(self, products, size):\n",
    "        for p in products:\n",
    "            if p.size == size: yield p \n",
    "\n",
    "    def filter_by_size_and_color(self, products, size, color):\n",
    "        for p in products:\n",
    "            if p.color == color and p.size == size:\n",
    "                yield p "
   ]
  },
  {
   "cell_type": "code",
   "execution_count": 3,
   "metadata": {},
   "outputs": [],
   "source": [
    "apple = Product('Apple', Color.GREEN, Size.SMALL)\n",
    "tree = Product('Tree', Color.GREEN, Size.LARGE)\n",
    "house = Product('House', Color.BLUE, Size.LARGE)\n",
    "\n",
    "products = [apple, tree, house]"
   ]
  },
  {
   "cell_type": "code",
   "execution_count": 4,
   "metadata": {},
   "outputs": [
    {
     "name": "stdout",
     "output_type": "stream",
     "text": [
      "Green products (old):\n",
      " - Apple is green\n",
      " - Tree is green\n"
     ]
    }
   ],
   "source": [
    "pf = ProductFilter()\n",
    "print('Green products (old):')\n",
    "for p in pf.filter_by_color(products, Color.GREEN):\n",
    "    print(f' - {p.name} is green')"
   ]
  },
  {
   "cell_type": "code",
   "execution_count": 16,
   "metadata": {},
   "outputs": [],
   "source": [
    "# OCP: open for extension, closed for modification\n",
    "# filter using the specification pattern \n",
    "class Specification:\n",
    "    def is_satisfied(self, item):\n",
    "        pass \n",
    "    # and operator makes life easier \n",
    "    def __and__(self, other):\n",
    "        return AndSpecification(self, other)\n",
    "\n",
    "class Filter:\n",
    "    def filter(self, items, sepc):\n",
    "        pass \n",
    "\n",
    "class ColorSpecification(Specification):\n",
    "    def __init__(self, color):\n",
    "        self.color = color \n",
    "    \n",
    "    def is_satisfied(self, item):\n",
    "        return item.color == self.color \n",
    "    \n",
    "class SizeSpecification(Specification):\n",
    "    def __init__(self, size):\n",
    "        self.size = size \n",
    "    \n",
    "    def is_satisfied(self, item):\n",
    "        return item.size == self.size \n",
    "    \n",
    "class AndSpecification(Specification):\n",
    "    def __init__(self, *args):\n",
    "        self.args = args \n",
    "    \n",
    "    def is_satisfied(self, item):\n",
    "        return all(map(\n",
    "            # ???\n",
    "            lambda spec: spec.is_satisfied(item), self.args ))\n",
    "    \n",
    "class BetterFilter(Filter):\n",
    "    def filter(self, items, spec):\n",
    "        for item in items:\n",
    "            if spec.is_satisfied(item):\n",
    "                yield item \n"
   ]
  },
  {
   "cell_type": "code",
   "execution_count": 17,
   "metadata": {},
   "outputs": [
    {
     "name": "stdout",
     "output_type": "stream",
     "text": [
      "Green products (new)\n",
      " - Apple is green\n",
      " - Tree is green\n"
     ]
    }
   ],
   "source": [
    "bf = BetterFilter()\n",
    "\n",
    "print('Green products (new)')\n",
    "green = ColorSpecification(color=Color.GREEN)\n",
    "for p in bf.filter(products, green):\n",
    "    print(f' - {p.name} is green')"
   ]
  },
  {
   "cell_type": "code",
   "execution_count": 18,
   "metadata": {},
   "outputs": [
    {
     "name": "stdout",
     "output_type": "stream",
     "text": [
      "Large products: \n",
      " - Tree is large\n",
      " - House is large\n"
     ]
    }
   ],
   "source": [
    "print('Large products: ')\n",
    "large = SizeSpecification(size=Size.LARGE)\n",
    "for p in bf.filter(products, large):\n",
    "    print(f' - {p.name} is large')"
   ]
  },
  {
   "cell_type": "code",
   "execution_count": 19,
   "metadata": {},
   "outputs": [
    {
     "name": "stdout",
     "output_type": "stream",
     "text": [
      "Large blue items: \n",
      " - House is large and blue \n"
     ]
    }
   ],
   "source": [
    "print('Large blue items: ')\n",
    "# large_blue = AndSpecification(large, ColorSpecification(Color.BLUE))\n",
    "\n",
    "# checkout the '&' ampersand operator overloading above \n",
    "large_blue = large & ColorSpecification(Color.BLUE)\n",
    "\n",
    "for p in bf.filter(products, large_blue):\n",
    "    print(f' - {p.name} is large and blue ')"
   ]
  },
  {
   "cell_type": "code",
   "execution_count": null,
   "metadata": {},
   "outputs": [],
   "source": []
  }
 ],
 "metadata": {
  "kernelspec": {
   "display_name": "python-learning-f9tBaeDV-py3.10",
   "language": "python",
   "name": "python3"
  },
  "language_info": {
   "codemirror_mode": {
    "name": "ipython",
    "version": 3
   },
   "file_extension": ".py",
   "mimetype": "text/x-python",
   "name": "python",
   "nbconvert_exporter": "python",
   "pygments_lexer": "ipython3",
   "version": "3.10.14"
  }
 },
 "nbformat": 4,
 "nbformat_minor": 2
}
