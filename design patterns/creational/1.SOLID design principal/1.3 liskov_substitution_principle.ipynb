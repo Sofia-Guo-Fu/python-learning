{
 "cells": [
  {
   "cell_type": "markdown",
   "metadata": {},
   "source": [
    "# SOLID design principles\n",
    "\n",
    "3. Liskov substitution principle \n",
    "\n",
    "* \"functions that use pointers or references to base classes must be able to use objects of derived classes without knowing it\"\n"
   ]
  },
  {
   "cell_type": "code",
   "execution_count": null,
   "metadata": {
    "vscode": {
     "languageId": "plaintext"
    }
   },
   "outputs": [],
   "source": []
  }
 ],
 "metadata": {
  "language_info": {
   "name": "python"
  }
 },
 "nbformat": 4,
 "nbformat_minor": 2
}
