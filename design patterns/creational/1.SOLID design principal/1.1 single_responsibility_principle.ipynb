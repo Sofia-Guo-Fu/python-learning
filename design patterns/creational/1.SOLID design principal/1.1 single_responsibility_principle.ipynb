{
 "cells": [
  {
   "cell_type": "markdown",
   "metadata": {},
   "source": [
    "# SOLID design principle\n",
    "\n",
    "1. Single responsibility principle (SRP)\n",
    "\n",
    "Anti-pattern that violates the srp principle: god object"
   ]
  },
  {
   "cell_type": "code",
   "execution_count": 4,
   "metadata": {},
   "outputs": [],
   "source": [
    "import pathlib "
   ]
  },
  {
   "cell_type": "code",
   "execution_count": 8,
   "metadata": {},
   "outputs": [
    {
     "data": {
      "text/plain": [
       "PosixPath('/Users/sofia/projects/python-learning/design patterns/creational')"
      ]
     },
     "execution_count": 8,
     "metadata": {},
     "output_type": "execute_result"
    }
   ],
   "source": [
    "pathlib.Path().cwd().parent"
   ]
  },
  {
   "cell_type": "code",
   "execution_count": 11,
   "metadata": {},
   "outputs": [],
   "source": [
    "class Journal:\n",
    "    def __init__(self):\n",
    "        self.entries = []\n",
    "        self.count = 0\n",
    "    \n",
    "    def add_entry(self, text):\n",
    "        self.entries.append(f\"{self.count}: {text}\")\n",
    "        self.count += 1\n",
    "\n",
    "    def remove_entry(self, pos):\n",
    "        del self.entries[pos]\n",
    "\n",
    "    def __str__(self):\n",
    "        return \"\\n\".join(self.entries)\n",
    "    \n",
    "    # breaks SRP\n",
    "    def save(self, filename):\n",
    "        file = open(filename, \"w\")\n",
    "        file.write(str(self))\n",
    "        file.close()"
   ]
  },
  {
   "cell_type": "code",
   "execution_count": 20,
   "metadata": {},
   "outputs": [],
   "source": [
    "class PersistenceManager:\n",
    "    def save_to_file(self, journal, filename):\n",
    "        file = open(filename, \"w\")\n",
    "        file.write(str(journal))\n",
    "        file.close()"
   ]
  },
  {
   "cell_type": "code",
   "execution_count": 21,
   "metadata": {},
   "outputs": [
    {
     "name": "stdout",
     "output_type": "stream",
     "text": [
      "Journal entries: \n",
      "0: I cried today. \n",
      "1: I ate a bug. \n",
      "\n"
     ]
    }
   ],
   "source": [
    "j = Journal()\n",
    "j.add_entry(\"I cried today. \")\n",
    "j.add_entry(\"I ate a bug. \")\n",
    "print(f\"Journal entries: \\n{j}\\n\")"
   ]
  },
  {
   "cell_type": "code",
   "execution_count": 24,
   "metadata": {},
   "outputs": [],
   "source": [
    "p = PersistenceManager()\n",
    "file = pathlib.Path().cwd()/ \"journal.txt\"\n",
    "p.save_to_file(j, file)"
   ]
  },
  {
   "cell_type": "code",
   "execution_count": 25,
   "metadata": {},
   "outputs": [
    {
     "name": "stdout",
     "output_type": "stream",
     "text": [
      "0: I cried today. \n",
      "1: I ate a bug. \n"
     ]
    }
   ],
   "source": [
    "# verify \n",
    "with open(file) as fh:\n",
    "    print(fh.read())"
   ]
  },
  {
   "cell_type": "code",
   "execution_count": null,
   "metadata": {},
   "outputs": [],
   "source": []
  }
 ],
 "metadata": {
  "kernelspec": {
   "display_name": "python-learning-f9tBaeDV-py3.10",
   "language": "python",
   "name": "python3"
  },
  "language_info": {
   "codemirror_mode": {
    "name": "ipython",
    "version": 3
   },
   "file_extension": ".py",
   "mimetype": "text/x-python",
   "name": "python",
   "nbconvert_exporter": "python",
   "pygments_lexer": "ipython3",
   "version": "3.10.14"
  }
 },
 "nbformat": 4,
 "nbformat_minor": 2
}
