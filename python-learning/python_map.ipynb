{
 "cells": [
  {
   "cell_type": "markdown",
   "metadata": {},
   "source": [
    "# Python's map(): preprocessing iterables without a loop\n",
    "\n",
    "Real python article: https://realpython.com/python-map-function/\n",
    "\n",
    "* python's `map()` is a built-in function that allows you to process and transform all the items in an iterable without using an explicit for loop\n",
    "* `map()` is one of the tools that support a functional programming style in python\n",
    "\n",
    "Alternatives: \n",
    "* list comprehension: https://realpython.com/list-comprehension-python/\n",
    "* generator expression: https://realpython.com/introduction-to-python-generators/#building-generators-with-generator-expressions\n",
    "\n",
    "Pre-knowledge of:\n",
    "* lambda functions: https://realpython.com/python-lambda/\n",
    "* iterables: https://realpython.com/python-iterators-iterables/#getting-to-know-python-iterables\n",
    "* functional programming: https://realpython.com/python-functional-programming/"
   ]
  },
  {
   "cell_type": "markdown",
   "metadata": {},
   "source": [
    "## Functional programming in python\n",
    "\n",
    "* In functional programming, computations are done by combining functions that take arguments and return a concrete value as a result\n",
    "* These functions don't modify their input arguments and don't change the program's state, they just provide the result of a given computation.\n",
    "\n",
    "When it comes to processing data with a functional style, there are at leaset three commonly used techniques:\n",
    "1. Mapping: applying a transformation function to an iterable to produce a new iterable \n",
    "2. Filtering: applying a predicate or Boolean-valued function to an iterable to generate a new iterable\n",
    "3. Reducing: applying a reduction function to an iterable to produce a single cumulative value"
   ]
  },
  {
   "cell_type": "markdown",
   "metadata": {},
   "source": [
    "## `map()`\n",
    "* `map()` takes a function object and an iterable (or multiple iterables) as arguments and returns an iterator that yields transformed items on demand: \n",
    "\n",
    "map(function, iterbale[, iterable1, iterable2, ..., iterableN])\n",
    "\n",
    "**Advantages of using `map()`**\n",
    "* Since `map()` is written in C and highly optimized, its internal implied loop can be more efficient than a regular python for loop\n",
    "* Memory consumption: with a for loop, you need to store the whole list in your system's memory. With `map()`, you get items on demand, and only one item is in your system's memory at a given time."
   ]
  },
  {
   "cell_type": "code",
   "execution_count": 1,
   "metadata": {},
   "outputs": [
    {
     "data": {
      "text/plain": [
       "[1, 4, 9, 16, 25]"
      ]
     },
     "execution_count": 1,
     "metadata": {},
     "output_type": "execute_result"
    }
   ],
   "source": [
    "numbers = [1,2,3,4,5]\n",
    "squared = []\n",
    "\n",
    "for num in numbers:\n",
    "    squared.append(num ** 2)\n",
    "\n",
    "squared"
   ]
  },
  {
   "cell_type": "code",
   "execution_count": 2,
   "metadata": {},
   "outputs": [
    {
     "data": {
      "text/plain": [
       "[1, 4, 9, 16, 25]"
      ]
     },
     "execution_count": 2,
     "metadata": {},
     "output_type": "execute_result"
    }
   ],
   "source": [
    "def square(number):\n",
    "    return number ** 2\n",
    "\n",
    "numbers = [1,2,3,4,5]\n",
    "\n",
    "# returns an iterator `squared` that yield the square values \n",
    "squared = map(square, numbers)\n",
    "list(squared)"
   ]
  },
  {
   "cell_type": "code",
   "execution_count": 3,
   "metadata": {},
   "outputs": [
    {
     "data": {
      "text/plain": [
       "<map at 0x1068a3670>"
      ]
     },
     "execution_count": 3,
     "metadata": {},
     "output_type": "execute_result"
    }
   ],
   "source": [
    "# map() returns a map object, which is an iterator that yield items on demand \n",
    "squared"
   ]
  },
  {
   "cell_type": "code",
   "execution_count": 4,
   "metadata": {},
   "outputs": [
    {
     "data": {
      "text/plain": [
       "[4, 8, 6, 9]"
      ]
     },
     "execution_count": 4,
     "metadata": {},
     "output_type": "execute_result"
    }
   ],
   "source": [
    "# convert all the items in a list from string to an integer number\n",
    "\n",
    "str_nums = [\"4\", \"8\", \"6\", \"9\"]\n",
    "\n",
    "int_nums = map(int, str_nums)\n",
    "list(int_nums)"
   ]
  },
  {
   "cell_type": "markdown",
   "metadata": {},
   "source": [
    "You can use any built-in functions with `map()`, provided that the function takes an argument and returns a value"
   ]
  },
  {
   "cell_type": "code",
   "execution_count": 5,
   "metadata": {},
   "outputs": [
    {
     "name": "stdout",
     "output_type": "stream",
     "text": [
      "[2, 1, 0, 1, 2]\n",
      "[-2.0, -1.0, 0.0, 1.0, 2.0]\n"
     ]
    }
   ],
   "source": [
    "numbers = [-2, -1, 0, 1, 2]\n",
    "\n",
    "abs_values = list(map(abs, numbers))\n",
    "print(abs_values)\n",
    "\n",
    "print(list(map(float, numbers)))"
   ]
  },
  {
   "cell_type": "code",
   "execution_count": 6,
   "metadata": {},
   "outputs": [
    {
     "data": {
      "text/plain": [
       "[7, 2, 3, 4]"
      ]
     },
     "execution_count": 6,
     "metadata": {},
     "output_type": "execute_result"
    }
   ],
   "source": [
    "words = [\"Welcome\", \"to\", \"New\", \"York\"]\n",
    "\n",
    "list(map(len, words))"
   ]
  },
  {
   "cell_type": "markdown",
   "metadata": {},
   "source": [
    "### use lambda expressions in `map()`\n",
    "a common pattern: use a lambda function as the first argument. \n",
    "\n",
    "lambda functions are handy when you need to pass an expression-based fucntion to `map()`"
   ]
  },
  {
   "cell_type": "code",
   "execution_count": 7,
   "metadata": {},
   "outputs": [
    {
     "data": {
      "text/plain": [
       "[1, 4, 9, 16, 25]"
      ]
     },
     "execution_count": 7,
     "metadata": {},
     "output_type": "execute_result"
    }
   ],
   "source": [
    "numbers = [1,2,3,4,5]\n",
    "squared = map(lambda num: num ** 2, numbers)\n",
    "list(squared)"
   ]
  },
  {
   "cell_type": "markdown",
   "metadata": {},
   "source": [
    "### Processing multiple input variables with `map()`\n",
    "\n",
    "* If you supply multiple iterables to map, then the transformation function must take as many arguments as iterables you pass in.\n",
    "* Each iteration of `map()` will pass one value from each iterables as an argument to function\n",
    "* The iteration stops at the end of the shortest iterable"
   ]
  },
  {
   "cell_type": "code",
   "execution_count": 8,
   "metadata": {},
   "outputs": [
    {
     "data": {
      "text/plain": [
       "[1, 32, 729]"
      ]
     },
     "execution_count": 8,
     "metadata": {},
     "output_type": "execute_result"
    }
   ],
   "source": [
    "first_it = [1,2,3]\n",
    "second_it = [4,5,6,7]\n",
    "\n",
    "list(map(pow, first_it, second_it))"
   ]
  },
  {
   "cell_type": "markdown",
   "metadata": {},
   "source": [
    "some more examples that use lambda functions to perfom different math operations on several input iterables "
   ]
  },
  {
   "cell_type": "code",
   "execution_count": 9,
   "metadata": {},
   "outputs": [
    {
     "data": {
      "text/plain": [
       "[1, 1, 1]"
      ]
     },
     "execution_count": 9,
     "metadata": {},
     "output_type": "execute_result"
    }
   ],
   "source": [
    "list(map(lambda x, y: x - y, [2,4,6], [1,3,5]))"
   ]
  },
  {
   "cell_type": "code",
   "execution_count": 10,
   "metadata": {},
   "outputs": [
    {
     "data": {
      "text/plain": [
       "[10, 15]"
      ]
     },
     "execution_count": 10,
     "metadata": {},
     "output_type": "execute_result"
    }
   ],
   "source": [
    "list(map(lambda x, y, z: x+y+z, [2,4], [1,3], [7,8]))"
   ]
  },
  {
   "cell_type": "markdown",
   "metadata": {},
   "source": [
    "## Transforming iterables of strings with python's map"
   ]
  },
  {
   "cell_type": "code",
   "execution_count": null,
   "metadata": {},
   "outputs": [],
   "source": []
  }
 ],
 "metadata": {
  "kernelspec": {
   "display_name": "python-learning-f9tBaeDV-py3.10",
   "language": "python",
   "name": "python3"
  },
  "language_info": {
   "codemirror_mode": {
    "name": "ipython",
    "version": 3
   },
   "file_extension": ".py",
   "mimetype": "text/x-python",
   "name": "python",
   "nbconvert_exporter": "python",
   "pygments_lexer": "ipython3",
   "version": "3.10.14"
  }
 },
 "nbformat": 4,
 "nbformat_minor": 2
}
