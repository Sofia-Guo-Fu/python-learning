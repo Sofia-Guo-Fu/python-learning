{
 "cells": [
  {
   "cell_type": "markdown",
   "metadata": {},
   "source": [
    "# Operator overloading in python\n",
    "\n",
    "* Operator overloading means giving extended meaning beyond their predefined operational meaning \n",
    "* To perform operator overloading, python provides some special function or magic function that is automatically invoked when it's associated with that particular operator.\n",
    "* e.g. when we use + operator, the magic method `__add__` is automatically invoked \n",
    "\n",
    "**Python magic methods or special functions for operator overloading**\n",
    "\n",
    "1. Binary operators\n",
    "\n",
    "| Operator | Magic Method |\n",
    "| :---: | :---: |\n",
    "| + | __add__(self, other) |\n",
    "| - | __sub__(self, other) |\n",
    "| * | __mul__(self, other) |\n",
    "| 1 | __truediv__(self, other) |\n",
    "| /I | __floordiv__(self, other) |\n",
    "| % | __mod__(self, other) |\n",
    "| ** | __pow__(self, other) |\n",
    "| >> | __rshift__(self, other) |\n",
    "| $<$ | __lshift__(self, other) |\n",
    "| & | __and__(self, other) |\n",
    "| I | __or__(self, other) |\n",
    "| $\\wedge$ | __xor__(self, other) |\n",
    "\n",
    "2. Comparison operators\n",
    "\n",
    "| Operator | Magic Method |\n",
    "| :---: | :---: |\n",
    "| $<$ | __lt__(self, other) |\n",
    "| $>$ | __gt__(self, other) |\n",
    "| $<$ | __le__(self, other) |\n",
    "| >= | __ge__(self, other) |\n",
    "| $=$ | __eq__(self, other) |\n",
    "| != | __ne__(self, other) |\n",
    "\n",
    "3. Assignment operators \n",
    "(skip)\n",
    "\n",
    "4. Unary operators\n",
    "\n",
    "| Operator | Magic Method |\n",
    "| :---: | :---: |\n",
    "| - | __neg__(self) |\n",
    "| + | __pos__(self) |\n",
    "| $\\sim$ | __invert__(self) |\n"
   ]
  },
  {
   "cell_type": "markdown",
   "metadata": {},
   "source": [
    "### Example 1: adding up 2 objects "
   ]
  },
  {
   "cell_type": "code",
   "execution_count": 1,
   "metadata": {},
   "outputs": [
    {
     "name": "stdout",
     "output_type": "stream",
     "text": [
      "3\n",
      "GeekFor\n"
     ]
    }
   ],
   "source": [
    "class A:\n",
    "    def __init__(self, a):\n",
    "        self.a = a \n",
    "    # adding two objects \n",
    "    def __add__(self, o):\n",
    "        return self.a + o.a \n",
    "\n",
    "ob1 = A(1)\n",
    "ob2 = A(2)\n",
    "ob3 = A(\"Geek\")\n",
    "ob4 = A(\"For\")\n",
    "\n",
    "print(ob1+ob2)\n",
    "print(ob3+ob4)"
   ]
  },
  {
   "cell_type": "code",
   "execution_count": 2,
   "metadata": {},
   "outputs": [
    {
     "name": "stdout",
     "output_type": "stream",
     "text": [
      "3\n",
      "GeekFor\n"
     ]
    }
   ],
   "source": [
    "# Actual working when binary operator is used\n",
    "print(ob1.__add__(ob2))\n",
    "print(ob3.__add__(ob4))"
   ]
  },
  {
   "cell_type": "markdown",
   "metadata": {},
   "source": [
    "### Example 2: complex number\n"
   ]
  },
  {
   "cell_type": "code",
   "execution_count": 3,
   "metadata": {},
   "outputs": [
    {
     "name": "stdout",
     "output_type": "stream",
     "text": [
      "(3, 5)\n"
     ]
    }
   ],
   "source": [
    "class complex:\n",
    "    def __init__(self, a, b):\n",
    "        self.a = a \n",
    "        self.b = b\n",
    "    \n",
    "    def __add__(self, other):\n",
    "        return self.a + other.a, self.b + other.b \n",
    "    \n",
    "Ob1 = complex(1, 2)\n",
    "Ob2 = complex(2, 3)\n",
    "Ob3 = Ob1 + Ob2\n",
    "print(Ob3)"
   ]
  },
  {
   "cell_type": "markdown",
   "metadata": {},
   "source": [
    "### Example 3: operator overloading on Boolean values"
   ]
  },
  {
   "cell_type": "code",
   "execution_count": 6,
   "metadata": {},
   "outputs": [
    {
     "name": "stdout",
     "output_type": "stream",
     "text": [
      "False\n"
     ]
    }
   ],
   "source": [
    "class MyClass:\n",
    "    def __init__(self, value):\n",
    "        self.value = value \n",
    "    \n",
    "    def __and__(self, other):\n",
    "        return MyClass(self.value and other.value)\n",
    "\n",
    "a = MyClass(True)\n",
    "b = MyClass(False)\n",
    "c = a & b\n",
    "print(c.value)"
   ]
  },
  {
   "cell_type": "markdown",
   "metadata": {},
   "source": [
    "What are the 7 categories of operator in python?\n",
    "\n",
    "1. Arithmetic Operators: +, -, *, /, \\%, ** (exponentiation), // (floor division).\n",
    "2. Comparison Operators: ==, !=, <, >, <=, >=.\n",
    "3. Logical Operators: and, or, not.\n",
    "4. Bitwise Operators: \\&, |, , , , <<, >>.\n",
    "5. Assignment Operators: $=,+=,-=$, etc.\n",
    "6. Identity Operators: is, is not.\n",
    "7. Membership Operators: in, not in."
   ]
  },
  {
   "cell_type": "code",
   "execution_count": null,
   "metadata": {},
   "outputs": [],
   "source": []
  }
 ],
 "metadata": {
  "kernelspec": {
   "display_name": "python-learning-f9tBaeDV-py3.10",
   "language": "python",
   "name": "python3"
  },
  "language_info": {
   "codemirror_mode": {
    "name": "ipython",
    "version": 3
   },
   "file_extension": ".py",
   "mimetype": "text/x-python",
   "name": "python",
   "nbconvert_exporter": "python",
   "pygments_lexer": "ipython3",
   "version": "3.10.14"
  }
 },
 "nbformat": 4,
 "nbformat_minor": 2
}
